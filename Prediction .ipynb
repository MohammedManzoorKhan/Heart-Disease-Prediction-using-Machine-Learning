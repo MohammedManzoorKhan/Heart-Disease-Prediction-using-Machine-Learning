{
 "cells": [
  {
   "cell_type": "code",
   "execution_count": 1,
   "id": "5583e771-5d51-4bc0-8102-be92dcf2f9e5",
   "metadata": {},
   "outputs": [],
   "source": [
    "import pandas as pd\n",
    "import pickle"
   ]
  },
  {
   "cell_type": "code",
   "execution_count": 2,
   "id": "690582a8-1bbb-4ec5-8686-5ba93364b6a4",
   "metadata": {},
   "outputs": [],
   "source": [
    "# 1. Load trained model & label encoder\n",
    "# ==============================\n",
    "with open(\"../models/xgboost_model.sav\", \"rb\") as f:\n",
    "    model = pickle.load(f)\n",
    "\n",
    "with open(\"../data/label_encoder.pkl\", \"rb\") as f:\n",
    "    le = pickle.load(f)"
   ]
  },
  {
   "cell_type": "code",
   "execution_count": 3,
   "id": "edb4d769-1ad4-41f6-ae49-f06e5f13eb39",
   "metadata": {},
   "outputs": [],
   "source": [
    "# 2. Define features\n",
    "# ==============================\n",
    "feature_names = [\n",
    "    \"Age\", \n",
    "    \"Sex\", \n",
    "    \"Chest pain type\", \n",
    "    \"BP\", \n",
    "    \"Cholesterol\", \n",
    "    \"FBS over 120\", \n",
    "    \"EKG results\", \n",
    "    \"Max HR\", \n",
    "    \"Exercise angina\", \n",
    "    \"ST depression\", \n",
    "    \"Slope of ST\", \n",
    "    \"Number of vessels fluro\", \n",
    "    \"Thallium\"\n",
    "]\n"
   ]
  },
  {
   "cell_type": "code",
   "execution_count": 4,
   "id": "5fa9ca8d-7bdb-4f1b-9e37-dd6c73d46ca2",
   "metadata": {},
   "outputs": [
    {
     "name": "stdout",
     "output_type": "stream",
     "text": [
      "Please enter the following values:\n",
      "\n"
     ]
    },
    {
     "name": "stdin",
     "output_type": "stream",
     "text": [
      "Age:  53\n",
      "Sex:  1\n",
      "Chest pain type:  3.0\n",
      "BP:  130\n",
      "Cholesterol:  197.0\n",
      "FBS over 120:  0\n",
      "EKG results:  2\n",
      "Max HR:  152.0\n",
      "Exercise angina:  0\n",
      "ST depression:  1.2\n",
      "Slope of ST:  3\n",
      "Number of vessels fluro:  0.0\n",
      "Thallium:  3\n"
     ]
    }
   ],
   "source": [
    "# ==============================\n",
    "# 3. Collect user input\n",
    "# ==============================\n",
    "print(\"Please enter the following values:\\n\")\n",
    "\n",
    "input_values = []\n",
    "for feature in feature_names:\n",
    "    value = input(f\"{feature}: \")\n",
    "    try:\n",
    "        # Numeric conversion where possible\n",
    "        value = float(value)\n",
    "    except:\n",
    "        pass\n",
    "    input_values.append(value)\n",
    "\n",
    "# Convert into DataFrame\n",
    "input_df = pd.DataFrame([input_values], columns=feature_names)\n"
   ]
  },
  {
   "cell_type": "code",
   "execution_count": 5,
   "id": "972bc6e3-a560-4f96-aab1-8152887c6243",
   "metadata": {},
   "outputs": [],
   "source": [
    "# ==============================\n",
    "# 4. Prediction\n",
    "# ==============================\n",
    "pred_prob = model.predict_proba(input_df)[0][1]  # Probability of class 1\n",
    "pred_class = model.predict(input_df)[0]          # 0 or 1\n",
    "\n",
    "# Decode back to original labels\n",
    "decoded_label = le.inverse_transform([pred_class])[0]"
   ]
  },
  {
   "cell_type": "code",
   "execution_count": 6,
   "id": "bf4d9797-8a64-4397-a1c8-41f0e7ee6fa4",
   "metadata": {},
   "outputs": [
    {
     "name": "stdout",
     "output_type": "stream",
     "text": [
      "\n",
      "Prediction Results\n",
      "===================\n",
      "Prediction Probability (Heart Disease): 0.0027\n",
      "Predicted Class: 0 (Absence)\n"
     ]
    }
   ],
   "source": [
    "# ==============================\n",
    "# 5. Output result\n",
    "# ==============================\n",
    "print(\"\\nPrediction Results\")\n",
    "print(\"===================\")\n",
    "print(f\"Prediction Probability (Heart Disease): {pred_prob:.4f}\")\n",
    "print(f\"Predicted Class: {pred_class} ({decoded_label})\")"
   ]
  }
 ],
 "metadata": {
  "kernelspec": {
   "display_name": "Python 3 (ipykernel)",
   "language": "python",
   "name": "python3"
  },
  "language_info": {
   "codemirror_mode": {
    "name": "ipython",
    "version": 3
   },
   "file_extension": ".py",
   "mimetype": "text/x-python",
   "name": "python",
   "nbconvert_exporter": "python",
   "pygments_lexer": "ipython3",
   "version": "3.9.21"
  }
 },
 "nbformat": 4,
 "nbformat_minor": 5
}
